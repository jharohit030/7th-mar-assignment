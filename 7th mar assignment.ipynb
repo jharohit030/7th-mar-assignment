{
 "cells": [
  {
   "cell_type": "code",
   "execution_count": null,
   "id": "10ab370a",
   "metadata": {},
   "outputs": [],
   "source": [
    "#Question1 :\n",
    "\n",
    "The three measures of central tendency are:\n",
    "\n",
    "1.Mean: The mean is the sum of all values in a dataset divided by the total number of values. It represents the average value of the dataset.\n",
    "2.Median: The median is the middle value in a dataset when the values are arranged in order. Half of the values in the dataset are greater than the median, and half are less than the median.\n",
    "3.Mode: The mode is the value that occurs most frequently in a dataset. In some cases, there may be more than one mode if multiple values have the same highest frequency.\n"
   ]
  },
  {
   "cell_type": "code",
   "execution_count": null,
   "id": "a6c23724",
   "metadata": {},
   "outputs": [],
   "source": [
    "#Question2:\n",
    "\n",
    "The mean, median, and mode are all measures of central tendency, which describe the typical or central value in a dataset. However, they differ in how they are calculated and what they represent.\n",
    "The mean is calculated by adding up all the values in a dataset and dividing by the number of values. It represents the average value of the dataset and is sensitive to extreme values, or outliers, which can greatly affect its value.\n",
    "The median is the middle value in a dataset when the values are arranged in order. It represents the value that divides the dataset into two equal parts, with half the values above and half the values below. The median is not affected by extreme values or outliers.\n",
    "The mode is the value that occurs most frequently in a dataset. It represents the value that is most common or typical in the dataset. Like the median, the mode is not affected by extreme values or outliers.\n",
    "\n",
    "The choice of which measure of central tendency to use depends on the characteristics of the dataset and the specific question being asked. For example, if a dataset has extreme values or outliers, the median may be a better measure of central tendency than the mean. If a dataset has multiple modes, the mode may not be a useful measure of central tendency."
   ]
  },
  {
   "cell_type": "code",
   "execution_count": 7,
   "id": "1e647f9c",
   "metadata": {},
   "outputs": [],
   "source": [
    "#Question3:\n",
    "\n",
    "import numpy as np\n",
    "from scipy import stats\n",
    "\n",
    "data  = [178,177,176,177,178,175,179,180,175,178.9,176.2,177,172.5,178,176.5]\n"
   ]
  },
  {
   "cell_type": "code",
   "execution_count": 8,
   "id": "31de2b55",
   "metadata": {},
   "outputs": [
    {
     "data": {
      "text/plain": [
       "176.94000000000003"
      ]
     },
     "execution_count": 8,
     "metadata": {},
     "output_type": "execute_result"
    }
   ],
   "source": [
    "np.mean(data)"
   ]
  },
  {
   "cell_type": "code",
   "execution_count": 9,
   "id": "21e0cebb",
   "metadata": {},
   "outputs": [
    {
     "data": {
      "text/plain": [
       "177.0"
      ]
     },
     "execution_count": 9,
     "metadata": {},
     "output_type": "execute_result"
    }
   ],
   "source": [
    "np.median(data)"
   ]
  },
  {
   "cell_type": "code",
   "execution_count": 10,
   "id": "6859c6ad",
   "metadata": {},
   "outputs": [
    {
     "name": "stderr",
     "output_type": "stream",
     "text": [
      "C:\\Users\\hp\\AppData\\Local\\Temp\\ipykernel_10184\\3267261142.py:1: FutureWarning: Unlike other reduction functions (e.g. `skew`, `kurtosis`), the default behavior of `mode` typically preserves the axis it acts along. In SciPy 1.11.0, this behavior will change: the default value of `keepdims` will become False, the `axis` over which the statistic is taken will be eliminated, and the value None will no longer be accepted. Set `keepdims` to True or False to avoid this warning.\n",
      "  stats.mode(data)\n"
     ]
    },
    {
     "data": {
      "text/plain": [
       "ModeResult(mode=array([177.]), count=array([3]))"
      ]
     },
     "execution_count": 10,
     "metadata": {},
     "output_type": "execute_result"
    }
   ],
   "source": [
    "stats.mode(data)"
   ]
  },
  {
   "cell_type": "code",
   "execution_count": 12,
   "id": "582863de",
   "metadata": {},
   "outputs": [
    {
     "data": {
      "text/plain": [
       "1.7885814036548633"
      ]
     },
     "execution_count": 12,
     "metadata": {},
     "output_type": "execute_result"
    }
   ],
   "source": [
    "#Question4:\n",
    "\n",
    "data = [178,177,176,177,178.2,178,175,179,180,175,178.9,176.2,177,172.5, 178,176.5]\n",
    "np.std(data)"
   ]
  },
  {
   "cell_type": "code",
   "execution_count": null,
   "id": "5624eeb0",
   "metadata": {},
   "outputs": [],
   "source": [
    "#Question5:\n",
    "\n",
    "Measures of dispersion such as range, variance, and standard deviation are used to describe the spread or variability of a dataset. They provide information about how much the values in the dataset vary from each other.\n",
    "\n",
    "1.Range: The range is the difference between the largest and smallest values in a dataset. It provides a quick and easy way to describe the spread of a dataset, but it is sensitive to extreme values or outliers. For example, if a dataset contains the values {2, 5, 7, 9, 100}, the range would be 100 - 2 = 98.\n",
    "\n",
    "2.Variance: The variance is a measure of how much the values in a dataset vary from the mean. It is calculated by subtracting each value from the mean, squaring the differences, summing them up, and dividing by the total number of values minus one. A higher variance indicates that the values are more spread out, while a lower variance indicates that the values are more clustered around the mean. For example, if a dataset contains the values {2, 5, 7, 9, 11}, the variance would be ((2-7)^2 + (5-7)^2 + (7-7)^2 + (9-7)^2 + (11-7)^2) / (5-1) = 8.\n",
    "\n",
    "3.Standard deviation: The standard deviation is the square root of the variance and provides a more intuitive measure of how much the values in a dataset vary from the mean. It is useful because it has the same unit of measurement as the original data and is easier to interpret. A higher standard deviation indicates that the values are more spread out, while a lower standard deviation indicates that the values are more clustered around the mean. For example, if a dataset contains the values {2, 5, 7, 9, 11}, the standard deviation would be the square root of the variance calculated above, which is approximately 2.83.\n",
    "    \n",
    "Example\n",
    "\n",
    "Suppose a teacher wants to compare the test scores of two classes of students. \n",
    "Class A has test scores of {60, 65, 70, 75, 80}, and Class B has test scores of {50, 60, 70, 80, 90}.\n",
    "While both classes have a median of 70 and a mean of 70, they have different levels of variability.\n",
    "The range of Class A is 20 (80 - 60), while the range of Class B is 40 (90 - 50), indicating that \n",
    "Class B has more spread out test scores. The variance of Class A is 62.5, while the variance of Class B is 200, indicating that \n",
    "Class B has more variability in test scores. The standard deviation of Class A is approximately 7.91, \n",
    "while the standard deviation of Class B is approximately 14.14, confirming that Class B has more variability in test scores.\n",
    "These measures of dispersion can help the teacher better understand the distribution of test scores and make more informed decisions about how to support the students in each class.\n"
   ]
  },
  {
   "cell_type": "code",
   "execution_count": null,
   "id": "5190f887",
   "metadata": {},
   "outputs": [],
   "source": [
    "#Question6:\n",
    "\n",
    "A Venn diagram is a graphical representation of sets, groups, or categories. It consists of overlapping circles or other closed curves that represent the sets, with the overlapping regions representing the elements that belong to more than one set.\n",
    "Venn diagrams are commonly used to illustrate relationships between sets and to visualize the overlap or intersection between them. They can be used to solve logic problems, to compare and contrast different groups or categories, and to show the distribution of attributes or characteristics across different groups."
   ]
  },
  {
   "cell_type": "code",
   "execution_count": 13,
   "id": "2c709d59",
   "metadata": {},
   "outputs": [],
   "source": [
    "#Question 7:\n",
    "\n",
    "A = (2,3,4,5,6,7)\n",
    "B= (0,2,6,8,10)"
   ]
  },
  {
   "cell_type": "code",
   "execution_count": 14,
   "id": "c32d942d",
   "metadata": {},
   "outputs": [
    {
     "data": {
      "text/plain": [
       "array([2, 6])"
      ]
     },
     "execution_count": 14,
     "metadata": {},
     "output_type": "execute_result"
    }
   ],
   "source": [
    "np.intersect1d(A,B)"
   ]
  },
  {
   "cell_type": "code",
   "execution_count": 15,
   "id": "e91fd78e",
   "metadata": {},
   "outputs": [
    {
     "data": {
      "text/plain": [
       "array([ 0,  2,  3,  4,  5,  6,  7,  8, 10])"
      ]
     },
     "execution_count": 15,
     "metadata": {},
     "output_type": "execute_result"
    }
   ],
   "source": [
    "np.union1d(A,B)"
   ]
  },
  {
   "cell_type": "code",
   "execution_count": null,
   "id": "87995847",
   "metadata": {},
   "outputs": [],
   "source": [
    "#Question 8:\n",
    "\n",
    "Skewness in data refers to the degree to which the distribution of values in a dataset is asymmetrical. In a perfectly symmetrical distribution, the values are evenly distributed on both sides of the mean, and the distribution is said to be \"normal\" or \"bell-shaped.\" However, in a skewed distribution, the values are not evenly distributed, and the distribution may be stretched out or compressed in one direction.\n",
    "Skewness is typically measured using a statistical measure called the skewness coefficient, which indicates the degree and direction of the skewness. A positive skewness coefficient indicates that the distribution is skewed to the right, meaning that the tail of the distribution extends to the right and the majority of the values are concentrated on the left side\n"
   ]
  },
  {
   "cell_type": "code",
   "execution_count": null,
   "id": "7d1157b7",
   "metadata": {},
   "outputs": [],
   "source": [
    "#Question 9:\n",
    "\n",
    "If a dataset is right skewed, meaning that it has a tail extending to the right side, then the median will typically be less than the mean. This is because the mean is affected by extreme values in the tail of the distribution, which pull the mean to the right, while the median is not influenced by extreme values and is located closer to the center of the distribution.\n"
   ]
  },
  {
   "cell_type": "code",
   "execution_count": null,
   "id": "a0a2f9bc",
   "metadata": {},
   "outputs": [],
   "source": [
    "#Question 10:\n",
    "\n",
    "Covariance is a measure of the joint variability between two variables. Specifically, it measures how much two variables change together. A positive covariance indicates that the two variables tend to increase or decrease together, while a negative covariance indicates that they tend to vary in opposite directions. However, the magnitude of covariance is affected by the scale of the variables, which can make it difficult to compare covariances across different datasets.\n",
    "Correlation, on the other hand, is a standardized measure of the relationship between two variables. Like covariance, it measures how much the variables vary together, but it also takes into account the scale of the variables. Specifically, correlation measures the strength and direction of the linear relationship between two variables. Correlation coefficients range from -1 to +1, with a value of -1 indicating a perfect negative correlation (i.e., the variables are perfectly inversely related), a value of +1 indicating a perfect positive correlation (i.e., the variables are perfectly related), and a value of 0 indicating no linear relationship between the variables.\n",
    "\n",
    "Both covariance and correlation are used in statistical analysis to understand the relationship between two variables in a dataset. They can help researchers to identify patterns, trends, and associations, and to make predictions about future outcomes. However, correlation is generally considered to be a more useful measure than covariance, because it is standardized and can be compared across different datasets. In addition, correlation is used in many statistical tests and models, such as regression analysis, where it is used to assess the strength and significance of the relationship between the independent and dependent variables.\n"
   ]
  },
  {
   "cell_type": "code",
   "execution_count": 17,
   "id": "bdc02a07",
   "metadata": {},
   "outputs": [],
   "source": [
    "#Question 11:\n",
    "\n",
    "The formula for calculating the sample mean is:\n",
    "sample mean = sum of values / number of values\n",
    "\n",
    "Here's an example calculation for a dataset of 5 values: 10, 20, 30, 40, 50.\n",
    "\n",
    "n = 5\n",
    "sample_mean = (10 + 20 + 30 + 40 + 50) / n"
   ]
  },
  {
   "cell_type": "code",
   "execution_count": 18,
   "id": "cb5d9361",
   "metadata": {},
   "outputs": [
    {
     "data": {
      "text/plain": [
       "30.0"
      ]
     },
     "execution_count": 18,
     "metadata": {},
     "output_type": "execute_result"
    }
   ],
   "source": [
    "sample_mean"
   ]
  },
  {
   "cell_type": "code",
   "execution_count": null,
   "id": "b3a93358",
   "metadata": {},
   "outputs": [],
   "source": [
    "#Question 12:\n",
    "\n",
    "For a normal distribution, the mean, median, and mode are all equal. This is because the normal distribution is a symmetric distribution that is centered around the mean. The mode of a normal distribution is also located at the peak of the distribution, which is at the same point as the mean and median.\n",
    "This relationship between the measures of central tendency holds true regardless of the specific parameters of the normal distribution, such as its mean and standard deviation. Therefore, if a dataset follows a normal distribution, we can use any of these measures to describe its center."
   ]
  },
  {
   "cell_type": "code",
   "execution_count": null,
   "id": "ddeaa128",
   "metadata": {},
   "outputs": [],
   "source": [
    "#Question 13:\n",
    "\n",
    "The key difference between covariance and correlation is that covariance is affected by the scale of the variables, while correlation is not. As a result, covariance can be difficult to interpret and compare across different datasets, whereas correlation is more standardized and can be used to compare the strength and direction of the relationship between two variables across different datasets.\n",
    "In summary, covariance measures the joint variability between two variables, while correlation measures the strength and direction of the linear relationship between two variables."
   ]
  },
  {
   "cell_type": "code",
   "execution_count": null,
   "id": "bcf8251f",
   "metadata": {},
   "outputs": [],
   "source": [
    "#Question 14:\n",
    "\n",
    "Outliers can have a significant impact on measures of central tendency and dispersion. An outlier is an observation that lies an abnormal distance from other values in a random sample from a population, and it can either be much larger or much smaller than the other values in the dataset.\n",
    "In terms of measures of central tendency, the presence of outliers can skew the mean and the median. If there are one or more extreme values in a dataset, the mean can be pulled towards the direction of the outlier. On the other hand, the median is generally less affected by outliers since it is based on the middle value(s) in a dataset and not the actual values. However, if the dataset contains a very small or very large number of outliers, the median can be shifted towards the direction of the outliers.\n",
    "In terms of measures of dispersion, outliers can also affect the range, variance, and standard deviation. Range is a measure of how spread out the dataset is, and the presence of outliers can increase the range. Variance and standard deviation are measures of how much the dataset varies from the mean, and the presence of outliers can increase these measures as well.\n",
    "\n",
    "Example\n",
    "\n",
    "Suppose you have a dataset of 10 salaries in a company: $30,000, $35,000, $40,000, $45,000, $50,000, $55,000, $60,000, $65,000, $70,000, and $1,000,000 (an outlier).\n",
    "The mean salary for this dataset is:\n",
    "\n",
    "($30,000 + $35,000 + $40,000 + $45,000 + $50,000 + $55,000 + $60,000 + $65,000 + $70,000 + $1,000,000) / 10 = $163,500\n",
    "\n",
    "As you can see, the presence of the outlier (the salary of $1,000,000) has pulled the mean towards the right. If we remove the outlier, the mean salary would be $50,000.\n",
    "\n",
    "The median salary is:\n",
    "\n",
    "The middle value of the sorted dataset is the fifth value, which is $50,000. The presence of the outlier has not affected the median salary, since it is based on the middle value(s) in the dataset.\n",
    "\n",
    "The range is:\n",
    "\n",
    "$1,000,000 - $30,000 = $970,000\n",
    "\n",
    "The presence of the outlier has greatly increased the range of the dataset.\n",
    "\n",
    "The variance and standard deviation are:\n",
    "\n",
    "First, we need to calculate the deviation of each value from the mean:\n",
    "\n",
    "$30,000 - $163,500 = -$133,500\n",
    "$35,000 - $163,500 = -$128,500\n",
    "$40,000 - $163,500 = -$123,500\n",
    "$45,000 - $163,500 = -$118,500\n",
    "$50,000 - $163,500 = -$113,500\n",
    "$55,000 - $163,500 = -$108,500\n",
    "$60,000 - $163,500 = -$103,500\n",
    "$65,000 - $163,500 = -$98,500\n",
    "$70,000 - $163,500 = -$93,500\n",
    "$1,000,000 - $163,500 = $836,500\n",
    "Then, we need to square each deviation:\n",
    "    \n",
    "(-$133,500)^2 = $17,840,250,000\n",
    "(-$128,500)^2 = $16,524,250,000\n",
    "(-$123,500)^2 = $15,244,250,000\n"
   ]
  }
 ],
 "metadata": {
  "kernelspec": {
   "display_name": "Python 3 (ipykernel)",
   "language": "python",
   "name": "python3"
  },
  "language_info": {
   "codemirror_mode": {
    "name": "ipython",
    "version": 3
   },
   "file_extension": ".py",
   "mimetype": "text/x-python",
   "name": "python",
   "nbconvert_exporter": "python",
   "pygments_lexer": "ipython3",
   "version": "3.10.9"
  }
 },
 "nbformat": 4,
 "nbformat_minor": 5
}
